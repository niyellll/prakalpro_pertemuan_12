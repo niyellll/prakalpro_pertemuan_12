{
 "cells": [
  {
   "cell_type": "markdown",
   "metadata": {},
   "source": [
    "Latihan 11.1 Buatlah program untuk melakukan pengecekan apakah semua anggota yang ada\n",
    "didalam tuple sama."
   ]
  },
  {
   "cell_type": "code",
   "execution_count": 1,
   "metadata": {},
   "outputs": [
    {
     "name": "stdout",
     "output_type": "stream",
     "text": [
      "Semua anggota dalam tuple1 sama: True\n",
      "Semua anggota dalam tuple2 sama: False\n"
     ]
    }
   ],
   "source": [
    "def cek_keunikan(tuple_data):\n",
    "    return len(set(tuple_data)) == 1\n",
    "\n",
    "tuple1 = (1, 1, 1, 1)\n",
    "tuple2 = (1, 2, 1, 1)\n",
    "\n",
    "print(\"Semua anggota dalam tuple1 sama:\", cek_keunikan(tuple1))\n",
    "print(\"Semua anggota dalam tuple2 sama:\", cek_keunikan(tuple2))\n"
   ]
  },
  {
   "cell_type": "markdown",
   "metadata": {},
   "source": [
    "Latihan 11.2 Buatlah program dengan menggunakan tuple yang dapat melalakukan proses\n",
    "seperti pada kasus 11.1, Gunakan data diri anda masing-masing dan lakukan perubahan supaya\n",
    "didapatkan output seperti contoh berikut ini :\n",
    "Contoh:\n",
    "Data: ('Matahari Bhakti Nendya', '22064091', 'Bantul, DI Yogyakarta')\n",
    "NIM : 22064091\n",
    "NAMA : Matahari Bhakti Nendya\n",
    "ALAMAT : Bantul, DI Yogyakarta\n",
    "NIM: ('2', '2', '0', '6', '4', '0', '9', '1')\n",
    "NAMA DEPAN: ('a', 't', 'a', 'h', 'a', 'r', 'i')\n",
    "NAMA TERBALIK: ('Nendya', 'Bhakti', 'Matahari')\n"
   ]
  },
  {
   "cell_type": "code",
   "execution_count": 9,
   "metadata": {},
   "outputs": [
    {
     "name": "stdout",
     "output_type": "stream",
     "text": [
      "Data: ('Nathaniel Krisnahadi', '71231037', 'Gejayan, DI Yogyakarta')\n",
      "NIM : 71231037\n",
      "NAMA : Nathaniel Krisnahadi\n",
      "ALAMAT : Gejayan, DI Yogyakarta\n",
      "NIM: ('7', '1', '2', '3', '1', '0', '3', '7')\n",
      "NAMA DEPAN: ('n', 'a', 't', 'h', 'a', 'n', 'i', 'e', 'l')\n",
      "NAMA TERBALIK: ('Krisnahadi', 'Nathaniel')\n"
     ]
    }
   ],
   "source": [
    "data_diri = ('Nathaniel Krisnahadi', '71231037', 'Gejayan, DI Yogyakarta')\n",
    "\n",
    "print(\"Data:\", data_diri)\n",
    "print(\"NIM :\", data_diri[1])\n",
    "print(\"NAMA :\", data_diri[0])\n",
    "print(\"ALAMAT :\", data_diri[2])\n",
    "\n",
    "print(\"NIM:\", tuple(data_diri[1]))\n",
    "\n",
    "print(\"NAMA DEPAN:\", tuple(data_diri[0].split()[0].lower()))\n",
    "\n",
    "nama_terbalik = tuple(data_diri[0].split()[::-1])\n",
    "print(\"NAMA TERBALIK:\", nama_terbalik)\n",
    "\n"
   ]
  },
  {
   "cell_type": "markdown",
   "metadata": {},
   "source": [
    "Latihan 11.3 Buatlah program untuk menghitung distribusi jam dalam satu hari dimana ada\n",
    "pesan yang diterima dari setiap email yang masuk. Gunakan file mbox-short.txt untuk sebagai\n",
    "datanya. Berikut ini adalah contoh output dari programmnya.\n",
    "Contoh:\n",
    "Enter a file name: mbox-short.txt\n",
    "04 3\n",
    "06 1\n",
    "07 1\n",
    "09 2\n",
    "10 3\n",
    "11 6\n",
    "14 1\n",
    "15 2\n",
    "16 4\n",
    "17 2\n",
    "18 1\n",
    "19 1\n"
   ]
  },
  {
   "cell_type": "code",
   "execution_count": 10,
   "metadata": {},
   "outputs": [
    {
     "name": "stdout",
     "output_type": "stream",
     "text": [
      "04 3\n",
      "06 1\n",
      "07 1\n",
      "09 2\n",
      "10 3\n",
      "11 6\n",
      "14 1\n",
      "15 2\n",
      "16 4\n",
      "17 2\n",
      "18 1\n",
      "19 1\n"
     ]
    }
   ],
   "source": [
    "try:\n",
    "    file = open(\"mbox-short.txt\")\n",
    "except FileNotFoundError:\n",
    "    print(\"File not found.\")\n",
    "    quit()\n",
    "\n",
    "hour_counts = {}\n",
    "\n",
    "for line in file:\n",
    "    if line.startswith(\"From \"):\n",
    "        hour = line.split()[5].split(\":\")[0]\n",
    "        hour_counts[hour] = hour_counts.get(hour, 0) + 1\n",
    "\n",
    "for hour, count in sorted(hour_counts.items()):\n",
    "    print(hour, count)\n"
   ]
  }
 ],
 "metadata": {
  "kernelspec": {
   "display_name": "Python 3",
   "language": "python",
   "name": "python3"
  },
  "language_info": {
   "codemirror_mode": {
    "name": "ipython",
    "version": 3
   },
   "file_extension": ".py",
   "mimetype": "text/x-python",
   "name": "python",
   "nbconvert_exporter": "python",
   "pygments_lexer": "ipython3",
   "version": "3.12.0"
  }
 },
 "nbformat": 4,
 "nbformat_minor": 2
}
